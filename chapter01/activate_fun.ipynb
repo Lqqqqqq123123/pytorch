{
 "cells": [
  {
   "cell_type": "code",
   "id": "8896954d",
   "metadata": {},
   "source": [
    "# import numpy as np\n",
    "# 从列表创建\n",
    "# a =np.array([1, 2, 3])\n",
    "# print(a)\n",
    "# print(np.zeros((3, 4)))\n",
    "# print(np.ones((2, 3)))\n",
    "# print(np.eye(3))\n",
    "# print(np.arange(0, 10, 2))\n",
    "# print(np.linspace(0, 1, 5))"
   ],
   "outputs": [],
   "execution_count": null
  },
  {
   "cell_type": "code",
   "id": "2ec6e7ce",
   "metadata": {},
   "source": [
    "import numpy as np\n",
    "a = np.array([[1, 2, 3], [4, 5, 6]])\n",
    "print(a.shape)\n",
    "print(a.dtype)\n",
    "print(a.ndim)\n",
    "print(a.size)"
   ],
   "outputs": [],
   "execution_count": null
  },
  {
   "cell_type": "code",
   "id": "8f59c045",
   "metadata": {},
   "source": [
    "# 这里是因为common与当前脚本不在同一目录下，所以需要添加路径，python导入依赖的时候遍历sys.path\n",
    "import os\n",
    "import sys\n",
    "cur = os.getcwd() # 获取当前工作目录\n",
    "parent_path = os.path.dirname(cur) # 获取当前工作目录的父目录\n",
    "sys.path.append(parent_path) # 添加父目录到系统路径\n"
   ],
   "outputs": [],
   "execution_count": null
  },
  {
   "cell_type": "code",
   "id": "479b1f6e",
   "metadata": {},
   "source": [
    "import numpy as np\n",
    "from common.functions import step_function\n",
    "x = np.array([-1.0, 1.0, 2.0])\n",
    "y = step_function(x)\n",
    "print(y)  # [0 1 1]\n"
   ],
   "outputs": [],
   "execution_count": null
  }
 ],
 "metadata": {
  "kernelspec": {
   "display_name": "pytorch_gpu",
   "language": "python",
   "name": "python3"
  },
  "language_info": {
   "codemirror_mode": {
    "name": "ipython",
    "version": 3
   },
   "file_extension": ".py",
   "mimetype": "text/x-python",
   "name": "python",
   "nbconvert_exporter": "python",
   "pygments_lexer": "ipython3",
   "version": "3.10.16"
  }
 },
 "nbformat": 4,
 "nbformat_minor": 5
}
