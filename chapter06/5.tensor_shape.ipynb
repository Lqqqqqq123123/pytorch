{
 "cells": [
  {
   "cell_type": "code",
   "execution_count": 1,
   "metadata": {},
   "outputs": [],
   "source": [
    "import torch"
   ]
  },
  {
   "cell_type": "code",
   "execution_count": null,
   "metadata": {},
   "outputs": [],
   "source": [
    "tensor = torch.randint(1, 10, (2, 3))\n",
    "print(tensor.shape)"
   ]
  },
  {
   "cell_type": "code",
   "execution_count": null,
   "metadata": {},
   "outputs": [],
   "source": [
    "print(tensor.transpose(0,1).shape)"
   ]
  },
  {
   "cell_type": "code",
   "execution_count": null,
   "metadata": {},
   "outputs": [],
   "source": [
    "print(tensor.mT.shape)"
   ]
  },
  {
   "cell_type": "code",
   "execution_count": null,
   "metadata": {},
   "outputs": [],
   "source": [
    "tensor = torch.rand(3, 4, 5)\n",
    "print(tensor.permute(2, 1, 0).shape)"
   ]
  },
  {
   "cell_type": "code",
   "execution_count": null,
   "metadata": {},
   "outputs": [],
   "source": [
    "# reshape\n",
    "tensor = torch.randint(1, 10, (3, 5, 4))\n",
    "print(id(tensor.reshape(3, -1)))\n"
   ]
  },
  {
   "cell_type": "code",
   "execution_count": null,
   "metadata": {},
   "outputs": [],
   "source": [
    "# view\n",
    "tensor.is_contiguous()\n",
    "id(tensor.view(-1, 3))\n"
   ]
  },
  {
   "cell_type": "code",
   "execution_count": 28,
   "metadata": {},
   "outputs": [
    {
     "name": "stdout",
     "output_type": "stream",
     "text": [
      "torch.Size([1, 3, 4])\n",
      "torch.Size([3, 1, 4])\n",
      "torch.Size([3, 4, 1])\n"
     ]
    }
   ],
   "source": [
    "# 原张量形状: torch.Size([3, 4])\n",
    "tensor = torch.rand(3, 4)\n",
    "t1 = tensor.unsqueeze(0)  # 形状变为: torch.Size([1, 3, 4])\n",
    "print(t1.shape)\n",
    "t2 = tensor.unsqueeze(1)  # 形状变为: torch.Size([3, 1, 4])\n",
    "print(t2.shape)\n",
    "t3 = tensor.unsqueeze(-1) # 形状变为: torch.Size([3, 4, 1])\n",
    "print(t3.shape)"
   ]
  },
  {
   "cell_type": "code",
   "execution_count": 30,
   "metadata": {},
   "outputs": [
    {
     "name": "stdout",
     "output_type": "stream",
     "text": [
      "torch.Size([3, 4])\n",
      "torch.Size([3, 1, 4])\n",
      "torch.Size([1, 3, 4])\n",
      "torch.Size([1, 3, 4])\n"
     ]
    }
   ],
   "source": [
    "# 原张量形状: torch.Size([1, 3, 1, 4])\n",
    "tensor = torch.rand(1, 3, 1, 4)\n",
    "\n",
    "t1 = tensor.squeeze()      # 删除所有大小为1的维度，形状变为: torch.Size([3, 4])\n",
    "print(t1.shape)\n",
    "t2 = tensor.squeeze(0)     # 删除第0维，形状变为: torch.Size([3, 1, 4])\n",
    "print(t2.shape)\n",
    "t3 = tensor.squeeze(2)     # 删除第2维，形状变为: torch.Size([1, 3, 4])\n",
    "print(t3.shape)\n",
    "t4 = tensor.squeeze(-2)    # 删除倒数第2维，形状变为: torch.Size([1, 3, 4])\n",
    "print(t4.shape)"
   ]
  },
  {
   "cell_type": "code",
   "execution_count": 34,
   "metadata": {},
   "outputs": [
    {
     "data": {
      "text/plain": [
       "tensor([[[5, 3, 5, 9, 1],\n",
       "         [6, 2, 1, 2, 9],\n",
       "         [7, 3, 7, 9, 6],\n",
       "         [1, 2, 2, 4, 4],\n",
       "         [6, 4, 1, 8, 3]],\n",
       "\n",
       "        [[4, 3, 3, 9, 4],\n",
       "         [5, 7, 7, 4, 7],\n",
       "         [6, 9, 8, 3, 2],\n",
       "         [9, 6, 7, 2, 9],\n",
       "         [3, 7, 9, 5, 7]]])"
      ]
     },
     "execution_count": 34,
     "metadata": {},
     "output_type": "execute_result"
    }
   ],
   "source": [
    "# torch.cat\n",
    "tensor1 = torch.randint(1, 10, (2, 3, 5))\n",
    "tensor2 = torch.randint(1, 10, (2, 2, 5))\n",
    "t = torch.cat([tensor1, tensor2], dim=1)\n",
    "t"
   ]
  },
  {
   "cell_type": "code",
   "execution_count": 44,
   "metadata": {},
   "outputs": [
    {
     "name": "stdout",
     "output_type": "stream",
     "text": [
      "tensor([[[1, 5],\n",
      "         [2, 6]],\n",
      "\n",
      "        [[3, 7],\n",
      "         [4, 8]]])\n"
     ]
    }
   ],
   "source": [
    "# torch.stack\n",
    "tensor1 = torch.tensor([[1, 2], [3, 4]])\n",
    "tensor2 = torch.tensor([[5, 6], [7, 8]])\n",
    "t = torch.stack([tensor1, tensor2], dim=2)\n",
    "print(t)"
   ]
  }
 ],
 "metadata": {
  "kernelspec": {
   "display_name": "pytorch_gpu",
   "language": "python",
   "name": "python3"
  },
  "language_info": {
   "codemirror_mode": {
    "name": "ipython",
    "version": 3
   },
   "file_extension": ".py",
   "mimetype": "text/x-python",
   "name": "python",
   "nbconvert_exporter": "python",
   "pygments_lexer": "ipython3",
   "version": "3.10.16"
  }
 },
 "nbformat": 4,
 "nbformat_minor": 2
}
