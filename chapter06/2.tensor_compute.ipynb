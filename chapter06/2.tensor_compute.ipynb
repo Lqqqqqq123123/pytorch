{
 "cells": [
  {
   "cell_type": "markdown",
   "metadata": {},
   "source": [
    "# 3. Tensor之间的运算"
   ]
  },
  {
   "cell_type": "code",
   "execution_count": null,
   "metadata": {},
   "outputs": [],
   "source": [
    "import numpy as np\n",
    "import torch\n",
    "print(torch.cuda.is_available())"
   ]
  },
  {
   "cell_type": "markdown",
   "metadata": {},
   "source": [
    "### 3.1 基本运算"
   ]
  },
  {
   "cell_type": "markdown",
   "metadata": {},
   "source": [
    "##### 3.1.1 四则运算\n"
   ]
  },
  {
   "cell_type": "markdown",
   "metadata": {},
   "source": [
    "1) +, -, *, / 加减乘除，不改变原数据\n",
    "2) t.add(), t.sub(), t.mul(), t.div() 加减乘除，不改变原数据\n",
    "3) t.add_(), t.sub_(), t.mul_(), t.div_() 加减乘除，改变原数据"
   ]
  },
  {
   "cell_type": "code",
   "execution_count": null,
   "metadata": {},
   "outputs": [],
   "source": [
    "# 我还以为add是torch的方法，原来都是tensor的方法，不带_不改变原始数据，带_直接在原数据上操作\n",
    "t1 = torch.randn(2, 3)\n",
    "t2 = 10\n",
    "print(t1)  \n",
    "t3 = t1.add(t2)\n",
    "print(t3)\n",
    "t1.add_(10)\n",
    "print(t1)"
   ]
  },
  {
   "cell_type": "markdown",
   "metadata": {},
   "source": [
    "##### 3.1.2 -，neg(), neg_()"
   ]
  },
  {
   "cell_type": "code",
   "execution_count": null,
   "metadata": {},
   "outputs": [],
   "source": [
    "tensor1 = torch.tensor([1, 2, 3])\n",
    "print(-tensor1)\n",
    "print()\n",
    "\n",
    "print(tensor1.neg())\n",
    "print(tensor1)\n",
    "print()\n",
    "\n",
    "print(tensor1.neg_())\n",
    "print(tensor1)"
   ]
  },
  {
   "cell_type": "markdown",
   "metadata": {},
   "source": [
    "##### 3.1.3 **、pow()、pow_()求幂"
   ]
  },
  {
   "cell_type": "code",
   "execution_count": null,
   "metadata": {},
   "outputs": [],
   "source": [
    "tensor = torch.tensor([1, 2, 3], dtype=torch.float32)\n",
    "print(tensor**2)\n",
    "\n",
    "print(tensor.pow(2))\n",
    "print(tensor)\n",
    "\n",
    "print(tensor.pow_(2))\n",
    "print(tensor)"
   ]
  },
  {
   "cell_type": "markdown",
   "metadata": {},
   "source": [
    "##### 3.1.4 sqrt(), sqrt_()"
   ]
  },
  {
   "cell_type": "code",
   "execution_count": null,
   "metadata": {},
   "outputs": [],
   "source": [
    "print(tensor.sqrt())\n",
    "\n",
    "print(tensor.sqrt_())"
   ]
  },
  {
   "cell_type": "markdown",
   "metadata": {},
   "source": [
    "##### 3.1.5 log(), log_()"
   ]
  },
  {
   "cell_type": "markdown",
   "metadata": {},
   "source": [
    "##### 3.1.6 exp(), exp_()"
   ]
  },
  {
   "cell_type": "code",
   "execution_count": null,
   "metadata": {},
   "outputs": [],
   "source": [
    "e = 2.718281828459045\n",
    "tensor = torch.tensor([1, 2, 3, 4, 5])\n",
    "tensor = tensor.type(torch.float32)\n",
    "print(e ** tensor)\n",
    "\n",
    "print(tensor.exp())\n",
    "print(tensor.exp_())\n",
    "print(tensor)"
   ]
  },
  {
   "cell_type": "markdown",
   "metadata": {},
   "source": [
    "### 3.2 哈达玛积 t1 * t2 | t1.mul(t2)"
   ]
  },
  {
   "cell_type": "code",
   "execution_count": null,
   "metadata": {},
   "outputs": [],
   "source": [
    "# 张量的对应位置元素相乘，进行计算的张量维度相同\n",
    "tensor1 = torch.tensor([[1, 3], [2, 4]])\n",
    "tensor2 = torch.tensor([[2, 4], [1, 3]])\n",
    "print(tensor1.mul(tensor2))"
   ]
  },
  {
   "cell_type": "markdown",
   "metadata": {},
   "source": [
    "### 3.3 张量乘法"
   ]
  },
  {
   "cell_type": "markdown",
   "metadata": {},
   "source": [
    "mm()严格用于二维矩阵相乘。<br>\n",
    "@、matmul()支持多维张量，按最后两个维度做矩阵乘法，其他维度相同，或者至少一个张量对应维度为1，广播后进行运算。"
   ]
  },
  {
   "cell_type": "code",
   "execution_count": null,
   "metadata": {},
   "outputs": [],
   "source": [
    "tensor1 = torch.randn(2, 2, 3, 3)\n",
    "tensor2 = torch.randn(2, 2, 3, 10)\n",
    "t = tensor1 @ tensor2\n",
    "print(t.size())"
   ]
  },
  {
   "cell_type": "markdown",
   "metadata": {},
   "source": [
    "### 3.4 内存节省"
   ]
  },
  {
   "cell_type": "code",
   "execution_count": 42,
   "metadata": {},
   "outputs": [
    {
     "name": "stdout",
     "output_type": "stream",
     "text": [
      "2298810815792\n",
      "2298699110000\n"
     ]
    }
   ],
   "source": [
    "# 如果 t = t + 10 这样实际上是产生了一个新的tensor，浪费了内存\n",
    "t = torch.tensor([1, 2, 3])\n",
    "print(id(t))\n",
    "t = t + 10\n",
    "print(id(t))\n"
   ]
  },
  {
   "cell_type": "code",
   "execution_count": 44,
   "metadata": {},
   "outputs": [
    {
     "name": "stdout",
     "output_type": "stream",
     "text": [
      "2298809908208\n",
      "2298809908208\n"
     ]
    }
   ],
   "source": [
    "t = torch.tensor([1, 2, 3, 4, 5, 6, 7, 8, 9, 10])\n",
    "print(id(t))\n",
    "t += 10\n",
    "print(id(t))"
   ]
  },
  {
   "cell_type": "code",
   "execution_count": 54,
   "metadata": {},
   "outputs": [
    {
     "name": "stdout",
     "output_type": "stream",
     "text": [
      "2298811208688\n",
      "2298811208688\n"
     ]
    }
   ],
   "source": [
    "# 矩阵的乘法节省内存 x @= y 不是原地操作了，在tensor里不可以，但在ndarray里可以\n",
    "t1 = torch.randn(2, 3)\n",
    "t2 = torch.randn(3, 1)\n",
    "print(id(t1))\n",
    "t1[:] = t1 @ t2\n",
    "print(id(t1))"
   ]
  }
 ],
 "metadata": {
  "kernelspec": {
   "display_name": "pytorch_gpu",
   "language": "python",
   "name": "python3"
  },
  "language_info": {
   "codemirror_mode": {
    "name": "ipython",
    "version": 3
   },
   "file_extension": ".py",
   "mimetype": "text/x-python",
   "name": "python",
   "nbconvert_exporter": "python",
   "pygments_lexer": "ipython3",
   "version": "3.10.16"
  }
 },
 "nbformat": 4,
 "nbformat_minor": 2
}
