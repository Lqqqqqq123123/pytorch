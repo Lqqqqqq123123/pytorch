{
 "cells": [
  {
   "cell_type": "markdown",
   "metadata": {},
   "source": [
    "# 4. tensor的统计运算"
   ]
  },
  {
   "cell_type": "markdown",
   "metadata": {},
   "source": [
    "### 常见运算函数(搞清楚维度就可以)\n",
    "1) sum()求和\n",
    "2) mean()求均值\n",
    "3) max()/min()求最大/最小值及其索引\n",
    "4) argmax()/argmin()求最大值/最小值的索引\n",
    "5) std()求标准差\n",
    "6) unique()去重\n",
    "7) sort()排序\n"
   ]
  },
  {
   "cell_type": "code",
   "execution_count": 45,
   "metadata": {},
   "outputs": [],
   "source": [
    "import torch\n",
    "import numpy as np"
   ]
  },
  {
   "cell_type": "code",
   "execution_count": null,
   "metadata": {},
   "outputs": [],
   "source": [
    "# sum\n",
    "tensor1 = torch.randint(1, 10, (3, 2, 4))\n",
    "print(tensor1)\n",
    "print(tensor1.sum(dim=2))"
   ]
  },
  {
   "cell_type": "code",
   "execution_count": null,
   "metadata": {},
   "outputs": [],
   "source": [
    "# mean\n",
    "tensor1 = tensor1.float()\n",
    "print(tensor1)\n",
    "print(tensor1.mean())\n",
    " \n",
    "print(tensor1.mean(dim=0))\n",
    "print(tensor1.mean(dim=1))\n",
    "print(tensor1.mean(dim=2))"
   ]
  },
  {
   "cell_type": "code",
   "execution_count": 53,
   "metadata": {},
   "outputs": [
    {
     "name": "stdout",
     "output_type": "stream",
     "text": [
      "tensor([[[3., 7., 8., 4.],\n",
      "         [1., 1., 2., 8.]],\n",
      "\n",
      "        [[6., 5., 5., 6.],\n",
      "         [6., 8., 3., 1.]],\n",
      "\n",
      "        [[3., 6., 7., 5.],\n",
      "         [5., 8., 9., 6.]]])\n",
      "tensor(9.)\n",
      "torch.return_types.max(\n",
      "values=tensor([[8., 8.],\n",
      "        [6., 8.],\n",
      "        [7., 9.]]),\n",
      "indices=tensor([[2, 3],\n",
      "        [0, 1],\n",
      "        [2, 2]]))\n",
      "tensor([[2, 3],\n",
      "        [0, 1],\n",
      "        [2, 2]])\n"
     ]
    }
   ],
   "source": [
    "# max / min\n",
    "print(tensor1)\n",
    "print(tensor1.max())\n",
    "print(tensor1.max(dim=2))\n",
    "print(tensor1.argmax(dim=2))"
   ]
  },
  {
   "cell_type": "code",
   "execution_count": 66,
   "metadata": {},
   "outputs": [
    {
     "name": "stdout",
     "output_type": "stream",
     "text": [
      "torch.return_types.sort(\n",
      "values=tensor([[[3., 5., 5., 4.],\n",
      "         [1., 1., 2., 1.]],\n",
      "\n",
      "        [[3., 6., 7., 5.],\n",
      "         [5., 8., 3., 6.]],\n",
      "\n",
      "        [[6., 7., 8., 6.],\n",
      "         [6., 8., 9., 8.]]]),\n",
      "indices=tensor([[[0, 1, 1, 0],\n",
      "         [0, 0, 0, 1]],\n",
      "\n",
      "        [[2, 2, 2, 2],\n",
      "         [2, 1, 1, 2]],\n",
      "\n",
      "        [[1, 0, 0, 1],\n",
      "         [1, 2, 2, 0]]]))\n"
     ]
    }
   ],
   "source": [
    "# sort 默认按最后一个维度排序\n",
    "print(tensor1.sort(dim=0))\n",
    "# print(tensor1.sort(dim=1))\n",
    " # print(tensor1.sort(dim=2))"
   ]
  },
  {
   "cell_type": "code",
   "execution_count": 90,
   "metadata": {},
   "outputs": [
    {
     "name": "stdout",
     "output_type": "stream",
     "text": [
      "tensor([1., 2., 3., 4., 5., 6., 7., 8., 9.])\n",
      "tensor([1., 2., 3., 4., 5., 6., 7., 8., 9.])\n"
     ]
    }
   ],
   "source": [
    "# unique() 去重的维度比较难看，所以一般不需要传维度\n",
    "print(tensor1.unique())\n",
    "# print(tensor1.unique(dim=0))\n",
    "print(tensor1.unique(sorted=False))"
   ]
  }
 ],
 "metadata": {
  "kernelspec": {
   "display_name": "pytorch_gpu",
   "language": "python",
   "name": "python3"
  },
  "language_info": {
   "codemirror_mode": {
    "name": "ipython",
    "version": 3
   },
   "file_extension": ".py",
   "mimetype": "text/x-python",
   "name": "python",
   "nbconvert_exporter": "python",
   "pygments_lexer": "ipython3",
   "version": "3.10.16"
  }
 },
 "nbformat": 4,
 "nbformat_minor": 2
}
