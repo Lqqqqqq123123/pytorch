{
 "cells": [
  {
   "cell_type": "markdown",
   "metadata": {},
   "source": [
    "# 5. Tensor的一些索引操作"
   ]
  },
  {
   "cell_type": "code",
   "execution_count": null,
   "metadata": {},
   "outputs": [],
   "source": [
    "import torch\n",
    "import numpy as np"
   ]
  },
  {
   "cell_type": "code",
   "execution_count": 35,
   "metadata": {},
   "outputs": [
    {
     "data": {
      "text/plain": [
       "tensor([[[8, 1, 6, 1],\n",
       "         [4, 9, 5, 5],\n",
       "         [5, 7, 3, 2],\n",
       "         [9, 7, 2, 1],\n",
       "         [4, 1, 7, 3]],\n",
       "\n",
       "        [[9, 4, 1, 5],\n",
       "         [1, 3, 5, 1],\n",
       "         [8, 6, 9, 2],\n",
       "         [5, 5, 1, 5],\n",
       "         [9, 6, 6, 4]],\n",
       "\n",
       "        [[2, 4, 4, 2],\n",
       "         [6, 6, 8, 1],\n",
       "         [9, 8, 5, 4],\n",
       "         [7, 7, 1, 7],\n",
       "         [9, 1, 1, 3]]])"
      ]
     },
     "execution_count": 35,
     "metadata": {},
     "output_type": "execute_result"
    }
   ],
   "source": [
    "tensor1 = torch.randint(1, 10, (3, 5, 4))\n",
    "tensor1"
   ]
  },
  {
   "cell_type": "code",
   "execution_count": 34,
   "metadata": {},
   "outputs": [
    {
     "name": "stdout",
     "output_type": "stream",
     "text": [
      "tensor(9)\n"
     ]
    }
   ],
   "source": [
    "import random\n",
    "# 1. 简单索引  直接给坐标\n",
    "print(tensor1[1, 2, 3])\n"
   ]
  },
  {
   "cell_type": "code",
   "execution_count": null,
   "metadata": {},
   "outputs": [],
   "source": [
    "# 2. 范围索引 以三维张量举例,其他维度一样 t[st:ed:step, st:ed:step, st:ed:step]\n",
    "# tensor要求步长必须大于0, 而numpy则没有限制\n",
    "print(tensor1[:, :, 0:2])\n",
    "print(tensor1[0, ::2, :]) "
   ]
  },
  {
   "cell_type": "code",
   "execution_count": 37,
   "metadata": {},
   "outputs": [
    {
     "name": "stdout",
     "output_type": "stream",
     "text": [
      "tensor([9, 9, 7])\n",
      "tensor([[8, 1, 6, 1],\n",
      "        [1, 3, 5, 1],\n",
      "        [9, 8, 5, 4]])\n"
     ]
    }
   ],
   "source": [
    "# 3. 花式索引\n",
    "\n",
    "# 列表索引\n",
    "print(tensor1[[0, 1, 2], [1, 2, 3], [1, 2, 3]])\n",
    "print(tensor1[[0, 1, 2], [0, 1, 2]])\n"
   ]
  },
  {
   "cell_type": "code",
   "execution_count": 39,
   "metadata": {},
   "outputs": [
    {
     "name": "stdout",
     "output_type": "stream",
     "text": [
      "tensor([[[4, 9, 5, 5],\n",
      "         [5, 7, 3, 2]],\n",
      "\n",
      "        [[1, 3, 5, 1],\n",
      "         [8, 6, 9, 2]]])\n"
     ]
    }
   ],
   "source": [
    "# 列表的嵌套 : 不嵌套是一对一, 嵌套就是 一对多\n",
    "print(tensor1[[[0], [1]], [1, 2]])"
   ]
  },
  {
   "cell_type": "code",
   "execution_count": 57,
   "metadata": {},
   "outputs": [
    {
     "name": "stdout",
     "output_type": "stream",
     "text": [
      "tensor([[8, 1, 6, 1],\n",
      "        [9, 7, 2, 1],\n",
      "        [9, 4, 1, 5],\n",
      "        [8, 6, 9, 2],\n",
      "        [9, 6, 6, 4],\n",
      "        [6, 6, 8, 1],\n",
      "        [9, 8, 5, 4],\n",
      "        [7, 7, 1, 7],\n",
      "        [9, 1, 1, 3]])\n",
      "tensor([[1, 1, 1, 2, 2],\n",
      "        [9, 5, 5, 6, 1],\n",
      "        [7, 2, 9, 9, 4],\n",
      "        [7, 1, 1, 7, 7],\n",
      "        [1, 3, 6, 9, 3]])\n"
     ]
    }
   ],
   "source": [
    "# 布尔索引 : 用条件判断表达式,生成一个高维布尔数组,再把这个高维布尔数组作为索引,返回满足条件的元素\n",
    "# 1.条件映射：将条件表达式应用于数组，生成与原数组形状相同的布尔数组\n",
    "# 2.元素筛选：根据布尔数组中 True/False 值，选择性地提取原数组中对应位置为 True 的元素\n",
    "# 3.降维操作：返回的结果是一维数组，包含所有满足条件的元素\n",
    "\n",
    "# 选取符合条件的某些行或者列:比如说首元素大于5\n",
    "mask = tensor1[:, :, 0] > 5\n",
    "print(tensor1[mask])\n",
    "\n",
    "# 选择所有列的首元素小于3的列\n",
    "mask = tensor1[:,0,:] < 3 # 当前mask是(3, 4), 而tensor1是(3, 5, 4),所以不能直接应用\n",
    "\n",
    "# 先把 tensor1 转秩为 (3, 4, 5), 然后再应用\n",
    "\n",
    "tensor2 = tensor1.mT\n",
    "print(tensor2[mask].mT)"
   ]
  },
  {
   "cell_type": "code",
   "execution_count": 58,
   "metadata": {},
   "outputs": [],
   "source": [
    "# 张量转秩常用的方法, 转秩操作返回新的张量视图，不改变原始张量数据\n",
    "# tensor.transpose(dim0, dim1)  交换两个指定维度\n",
    "# tensor.permute(dim1, dim2, dim3, ...) 重新排列维度\n",
    "# x.mT 如果只想对矩阵转秩, 使用x.mT即可"
   ]
  },
  {
   "cell_type": "code",
   "execution_count": 61,
   "metadata": {},
   "outputs": [
    {
     "name": "stdout",
     "output_type": "stream",
     "text": [
      "tensor([False, False,  True])\n",
      "tensor([[[2, 4, 4, 2],\n",
      "         [6, 6, 8, 1],\n",
      "         [9, 8, 5, 4],\n",
      "         [7, 7, 1, 7],\n",
      "         [9, 1, 1, 3]]])\n"
     ]
    }
   ],
   "source": [
    "# 选取符合条件的矩阵\n",
    "# 比如当前要选择的矩阵是(1, 2) > 5\n",
    "mask = tensor1[:, 1, 2] > 5\n",
    "print(mask)\n",
    "print(tensor1[mask])"
   ]
  },
  {
   "cell_type": "code",
   "execution_count": 62,
   "metadata": {},
   "outputs": [
    {
     "name": "stdout",
     "output_type": "stream",
     "text": [
      "tensor([8, 6, 9, 7, 9, 7, 7, 9, 8, 6, 9, 9, 6, 6, 6, 6, 8, 9, 8, 7, 7, 7, 9])\n"
     ]
    }
   ],
   "source": [
    "mask = tensor1 > 5\n",
    "print(tensor1[mask])"
   ]
  }
 ],
 "metadata": {
  "kernelspec": {
   "display_name": "pytorch_gpu",
   "language": "python",
   "name": "python3"
  },
  "language_info": {
   "codemirror_mode": {
    "name": "ipython",
    "version": 3
   },
   "file_extension": ".py",
   "mimetype": "text/x-python",
   "name": "python",
   "nbconvert_exporter": "python",
   "pygments_lexer": "ipython3",
   "version": "3.10.16"
  }
 },
 "nbformat": 4,
 "nbformat_minor": 2
}
