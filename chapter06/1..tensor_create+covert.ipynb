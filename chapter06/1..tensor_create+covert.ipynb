{
 "cells": [
  {
   "cell_type": "code",
   "execution_count": 2,
   "metadata": {},
   "outputs": [
    {
     "data": {
      "text/plain": [
       "True"
      ]
     },
     "execution_count": 2,
     "metadata": {},
     "output_type": "execute_result"
    }
   ],
   "source": [
    "import torch\n",
    "import numpy as np\n",
    "\n",
    "# 查看torch版本\n",
    "torch.__version__\n",
    "# 查看cuda版本\n",
    "torch.version.cuda\n",
    "# 查看cuda是否可用\n",
    "torch.cuda.is_available()"
   ]
  },
  {
   "cell_type": "markdown",
   "metadata": {},
   "source": [
    "\n",
    "## 1.Tensor的创建"
   ]
  },
  {
   "cell_type": "markdown",
   "metadata": {},
   "source": [
    "#### 1.1 用内容创建Tensor\n",
    "torch.tensor()\n",
    "参数可以是：list, ndarray, scalar"
   ]
  },
  {
   "cell_type": "code",
   "execution_count": null,
   "metadata": {},
   "outputs": [],
   "source": [
    "# 直接创建标量\n",
    "tensor1 = torch.tensor(10.0)\n",
    "print(tensor1)\n",
    "print(tensor1.size()) \n",
    "print(tensor1.dtype) "
   ]
  },
  {
   "cell_type": "code",
   "execution_count": null,
   "metadata": {},
   "outputs": [],
   "source": [
    "# 根据list创建张量 -- 一维数组\n",
    "tensor2 = torch.tensor([i for i in range(10)])\n",
    "print(tensor2)\n",
    "print(tensor2.size()) \n",
    "print(tensor2.dtype) "
   ]
  },
  {
   "cell_type": "code",
   "execution_count": null,
   "metadata": {},
   "outputs": [],
   "source": [
    "# 根据list创建张量 -- 二维数组\n",
    "tensor3 = torch.tensor(np.array([[j for j in range(10)] for i in range(5)]))\n",
    "print(tensor3)\n",
    "print(tensor3.size()) \n",
    "print(tensor3.dtype) "
   ]
  },
  {
   "cell_type": "markdown",
   "metadata": {},
   "source": [
    "#### 1.2 创建指定形状的张量\n",
    "此时，调用的方法是torch.Tensor(size),torch.Tensor也可以按内容创建张量，但与torch.tensor不同，torch.Tensor默认数据类型为float32"
   ]
  },
  {
   "cell_type": "code",
   "execution_count": null,
   "metadata": {},
   "outputs": [],
   "source": [
    "tensor = torch.Tensor(3, 2, 4)\n",
    "print(tensor.size())\n",
    "print(tensor.shape)\n",
    "print(tensor.dtype)"
   ]
  },
  {
   "cell_type": "markdown",
   "metadata": {},
   "source": [
    "#### 1.3 指定tensor的数据类型\n",
    "可以通过torch.IntTensor()、torch.FloatTensor()、torch.DoubleTensor()等方法指定tensor的数据类型。或者是通过torch.tensor()方法指定数据类型dtype。\n",
    "对于Tensor，有long, int, short, byte, double, float, half, bool\n",
    "对于tensor，有int64, int32, int16, uint8（无符号）, float64, float32, float16, bool"
   ]
  },
  {
   "cell_type": "code",
   "execution_count": null,
   "metadata": {},
   "outputs": [],
   "source": [
    "# int(32)\n",
    "tensor1 = torch.tensor([0 for i in range(10)], dtype=torch.int32)\n",
    "tensor2 = torch.IntTensor(10)\n",
    "print(tensor1)\n",
    "print(tensor2)"
   ]
  },
  {
   "cell_type": "code",
   "execution_count": null,
   "metadata": {},
   "outputs": [],
   "source": [
    "# long\n",
    "tensor1 = torch.tensor([i for i in range(5)], dtype=torch.int64)\n",
    "tensor2 = torch.LongTensor(10)\n",
    "print(tensor1)\n",
    "print(tensor2)"
   ]
  },
  {
   "cell_type": "code",
   "execution_count": null,
   "metadata": {},
   "outputs": [],
   "source": [
    "# double\n",
    "tensor1 = torch.tensor([1, 2, 3], dtype=torch.float16)\n",
    "tensor2 = torch.HalfTensor(3, 4)\n",
    "print(tensor1)\n",
    "print(tensor2) "
   ]
  },
  {
   "cell_type": "markdown",
   "metadata": {},
   "source": [
    "#### 1.4 指定区间创建张量\n"
   ]
  },
  {
   "cell_type": "code",
   "execution_count": null,
   "metadata": {},
   "outputs": [],
   "source": [
    "# torch.arange(start, end, step) 前闭后开\n",
    "tensor1 = torch.arange(10, 30, 2)\n",
    "tensor2 = torch.arange(6)\n",
    " \n",
    "# torch.linspace(start, end, num) 前闭后闭\n",
    "tensor3 = torch.linspace(10, 30, 5)\n",
    "\n",
    "# torch.logspace(start, end, steps, base=10.0, *, out=None, dtype=None, layout=torch.strided, device=None, requires_grad=False)\n",
    "tensor4 = torch.logspace(10, 30, 5, base=2)\n",
    "print(tensor4)"
   ]
  },
  {
   "cell_type": "markdown",
   "metadata": {},
   "source": [
    "#### 1.5 按数值填充张量"
   ]
  },
  {
   "cell_type": "code",
   "execution_count": null,
   "metadata": {},
   "outputs": [],
   "source": [
    "# torch.zeros(size)\n",
    "tensor = torch.zeros(3, 4)\n",
    "# torch.ones(size)\n",
    "tensor = torch.ones(3, 4)   \n",
    "# torch.full(size, value)\n",
    "tensor = torch.full((3, 4), 5)\n",
    "# torch.empty(size)\n",
    "tensor_empyt = torch.empty(3, 4)\n",
    "# torch.zeros_like(tensor)\n",
    "tensor_zeros_like = torch.zeros_like(tensor)\n",
    "# torch.ones_like(tensor)\n",
    "tensor_ones_like = torch.ones_like(tensor)\n",
    "# torch.full_like(size, value)\n",
    "tensor_full_like = torch.full_like(tensor, 666)\n",
    "# torch.empty_like(tensor)\n",
    "tensor_empty_like = torch.empty_like(tensor)\n",
    "\n",
    "# torch.eye(size) 生成单位矩阵\n",
    "tensor = torch.eye(3)\n",
    "\n"
   ]
  },
  {
   "cell_type": "markdown",
   "metadata": {},
   "source": [
    "#### 1.6 按随机值生成张量\n",
    "1）torch.rand(size)创建在[0,1)上均匀分布的，指定形状的张量<br>\n",
    "2）torch.randint(low, high, size)创建在[low,high)上均匀分布的，指定形状的张量<br>\n",
    "3）torch.randn(size)创建标准正态分布的，指定形状的张量<br>\n",
    "4）torch.normal(mean,std,size)创建自定义正态分布的，指定形状的张量<br>\n",
    "5）torch.rand_like(input)创建在[0,1)上均匀分布的，与给定张量形状相同的张量<br>\n",
    "6）torch.randint_like(input, low, high)创建在[low,high)上均匀分布的，与给定张量形状相同的张量<br>\n",
    "7）torch.randn_like(input)创建标准正态分布的，与给定张量形状相同的张量<br>"
   ]
  },
  {
   "cell_type": "code",
   "execution_count": null,
   "metadata": {},
   "outputs": [],
   "source": [
    "# torch.rand(size)\n",
    "tensor = torch.rand(3, 4) # x ~ U(0,1)\n",
    "\n",
    "# torch.randn(size)\n",
    "tensor = torch.randn(3, 4) # x ~ N(0,1)\n",
    "\n",
    "# torch.randint(low, high, size) 前闭后开\n",
    "tensor = torch.randint(0, 10, (10, 10)) # x ~ U(low,high) \n",
    "\n",
    "# torch.normal(mean, std, size) # x ~ N(mean,std)\n",
    "tensor = torch.normal(*[0, 1], size=(3, 4))\n",
    "\n",
    "# 其他就是三个与上面方法对应的like方法，注意：torch.normal没有like方法\n"
   ]
  },
  {
   "cell_type": "markdown",
   "metadata": {},
   "source": [
    "#### 1.7 随机排列以及随机数种子"
   ]
  },
  {
   "cell_type": "code",
   "execution_count": null,
   "metadata": {},
   "outputs": [],
   "source": [
    "tensor = torch.randperm(10) # 先生成一个序列，再随机打乱\n",
    "print(tensor)\n",
    "\n",
    "# 查看随机数种子\n",
    "print(torch.random.initial_seed())\n",
    "# 设置随机数种子\n",
    "torch.manual_seed(42)"
   ]
  },
  {
   "cell_type": "markdown",
   "metadata": {},
   "source": [
    "## 2. Tensor的转换"
   ]
  },
  {
   "cell_type": "markdown",
   "metadata": {},
   "source": [
    "#### 2.1 Tensor的类型转换\n",
    "1) Tensor.type(dtype) 转换成指定类型"
   ]
  },
  {
   "cell_type": "code",
   "execution_count": null,
   "metadata": {},
   "outputs": [],
   "source": [
    "tensor = torch.tensor([1, 2, 3, 4, 5, 6, 7, 8, 9, 10])\n",
    "print(tensor.dtype)\n",
    "tensor = tensor.type(torch.float32)\n",
    "print(tensor.dtype)"
   ]
  },
  {
   "cell_type": "markdown",
   "metadata": {},
   "source": [
    "2) Tensor.xxx类型().. or Tensor.to(xxx类型)"
   ]
  },
  {
   "cell_type": "code",
   "execution_count": null,
   "metadata": {},
   "outputs": [],
   "source": [
    "tensor = torch.Tensor(3, 4) \n",
    "# 两种转换方式\n",
    "tensor1 = tensor.to(torch.float64)\n",
    "tensor2 = tensor.to(torch.int32)\n",
    "tensor3 = tensor.short()\n",
    "# 输出结果\n",
    "print(tensor.dtype)\n",
    "print(tensor1.dtype)\n",
    "print(tensor2.dtype)\n",
    "print(tensor3.dtype)"
   ]
  },
  {
   "cell_type": "markdown",
   "metadata": {},
   "source": [
    "#### 2.2 Tensor与Ndarray的转换"
   ]
  },
  {
   "cell_type": "markdown",
   "metadata": {},
   "source": [
    "1) Tensor.numpy() 将Tensor转换成numpy，共享内存，使用copy避免共享内存"
   ]
  },
  {
   "cell_type": "code",
   "execution_count": null,
   "metadata": {},
   "outputs": [],
   "source": [
    "# 设置打印方式---和numpy完全一样\n",
    "np.set_printoptions(precision=6)\n",
    "torch.set_printoptions(precision=6)\n",
    "# tensor 转为 numpy tensor.numpy()  \n",
    "tensor = torch.randn(3, 3)\n",
    "arr = tensor.numpy()\n",
    "print(tensor) \n",
    "arr[0, :] = -1.0\n",
    "print(arr)\n",
    "print(tensor)\n"
   ]
  },
  {
   "cell_type": "code",
   "execution_count": null,
   "metadata": {},
   "outputs": [],
   "source": [
    "# 避免共享同一内存空间\n",
    "tensor = torch.randn(2, 3)\n",
    "arr = tensor.numpy().copy()\n",
    "\n",
    "print(tensor)\n",
    "arr[0, 0] = 0\n",
    "print(tensor)"
   ]
  },
  {
   "cell_type": "markdown",
   "metadata": {},
   "source": [
    "2) torch.from_numpy(array) 将numpy数组转换成Tensor<br>"
   ]
  },
  {
   "cell_type": "code",
   "execution_count": null,
   "metadata": {},
   "outputs": [],
   "source": [
    "arr = np.array([[j * 1.0 for j in range(5)] for i in range(3)])\n",
    "# 共享内存，如果想不共享内存的话，可以用torch.tensor(array)\n",
    "tensor = torch.from_numpy(arr)\n",
    "tensor_t = torch.tensor(arr)\n",
    "arr[:, 0] = 666.666\n",
    "\n",
    "print(tensor_t)\n",
    "print(tensor)"
   ]
  },
  {
   "cell_type": "markdown",
   "metadata": {},
   "source": [
    "#### 2.3 Tensor与标量的转换"
   ]
  },
  {
   "cell_type": "code",
   "execution_count": 3,
   "metadata": {},
   "outputs": [
    {
     "name": "stdout",
     "output_type": "stream",
     "text": [
      "-0.23908571898937225\n"
     ]
    }
   ],
   "source": [
    "# 当tensor只有一个元素时，Tensor.item()可以提取改数值\n",
    "print(torch.randn(1).item())  "
   ]
  }
 ],
 "metadata": {
  "kernelspec": {
   "display_name": "pytorch_gpu",
   "language": "python",
   "name": "python3"
  },
  "language_info": {
   "codemirror_mode": {
    "name": "ipython",
    "version": 3
   },
   "file_extension": ".py",
   "mimetype": "text/x-python",
   "name": "python",
   "nbconvert_exporter": "python",
   "pygments_lexer": "ipython3",
   "version": "3.10.16"
  }
 },
 "nbformat": 4,
 "nbformat_minor": 2
}
