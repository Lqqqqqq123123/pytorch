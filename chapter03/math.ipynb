{
 "cells": [
  {
   "cell_type": "code",
   "execution_count": 13,
   "metadata": {},
   "outputs": [
    {
     "name": "stdout",
     "output_type": "stream",
     "text": [
      "0.1999999999990898\n",
      "0.2\n"
     ]
    },
    {
     "data": {
      "text/plain": [
       "'\\noutput ：确实能算对，hhh\\n1.9999999999908982e-09\\n0.2\\n'"
      ]
     },
     "execution_count": 13,
     "metadata": {},
     "output_type": "execute_result"
    }
   ],
   "source": [
    "# 今天学深度学习的数学（其实还是如何在Python中实现）\n",
    "\n",
    "# 测试数值求导（中心差分）\n",
    "import sys, os\n",
    "sys.path.append(os.path.dirname(os.getcwd()))\n",
    "import numpy as np\n",
    "from common.gradient import numerical_diff\n",
    "\n",
    "def function_1(x):\n",
    "    return 0.01*x**2 + 0.1*x\n",
    "def function_2(x):\n",
    "    return 0.02*x + 0.1\n",
    "\n",
    "x = 5\n",
    "print(numerical_diff(function_1, x)) \n",
    "print(function_2(x))\n",
    "'''\n",
    "output ：确实能算对，hhh\n",
    "1.9999999999908982e-09\n",
    "0.2\n",
    "'''"
   ]
  },
  {
   "cell_type": "code",
   "execution_count": 11,
   "metadata": {},
   "outputs": [],
   "source": [
    "import numpy as np\n",
    "a = np.random.randint(1, 10, (3,3))\n",
    "b = np.random.randn(2, 3)"
   ]
  }
 ],
 "metadata": {
  "kernelspec": {
   "display_name": "pytorch_gpu",
   "language": "python",
   "name": "python3"
  },
  "language_info": {
   "codemirror_mode": {
    "name": "ipython",
    "version": 3
   },
   "file_extension": ".py",
   "mimetype": "text/x-python",
   "name": "python",
   "nbconvert_exporter": "python",
   "pygments_lexer": "ipython3",
   "version": "3.10.16"
  }
 },
 "nbformat": 4,
 "nbformat_minor": 2
}
