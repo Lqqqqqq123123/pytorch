{
 "cells": [
  {
   "cell_type": "code",
   "execution_count": 38,
   "metadata": {},
   "outputs": [],
   "source": [
    "import torch\n",
    "import torch.nn as nn"
   ]
  },
  {
   "cell_type": "code",
   "execution_count": 39,
   "metadata": {},
   "outputs": [],
   "source": [
    "class MyModel(nn.Module):\n",
    "    \n",
    "    def __init__(self):\n",
    "        super().__init__()\n",
    "        # 定义网络结构\n",
    "        self.linear1 = nn.Linear(3, 4)\n",
    "        self.linear2 = nn.Linear(4, 4)\n",
    "        self.linear3 = nn.Linear(4, 2)\n",
    "\n",
    "        # 初始化网络参数\n",
    "        nn.init.xavier_normal_(self.linear1.weight)\n",
    "        nn.init.kaiming_normal_(self.linear2.weight)\n",
    "    \n",
    "\n",
    "    def forward(self, x):\n",
    "        z1 = torch.tanh(self.linear1(x))\n",
    "        z2 = torch.relu(self.linear2(z1))\n",
    "        return torch.softmax(self.linear3(z2), dim=1)\n",
    "    \n",
    "    \n"
   ]
  },
  {
   "cell_type": "code",
   "execution_count": 40,
   "metadata": {},
   "outputs": [
    {
     "name": "stdout",
     "output_type": "stream",
     "text": [
      "tensor([[0.4105, 0.5895],\n",
      "        [0.4946, 0.5054],\n",
      "        [0.4762, 0.5238],\n",
      "        [0.4992, 0.5008],\n",
      "        [0.3350, 0.6650],\n",
      "        [0.4955, 0.5045],\n",
      "        [0.2533, 0.7467],\n",
      "        [0.5025, 0.4975],\n",
      "        [0.4955, 0.5045],\n",
      "        [0.5176, 0.4824]])\n"
     ]
    }
   ],
   "source": [
    "net = MyModel()\n",
    "x = torch.randn(10, 3)\n",
    "out = net(x)\n",
    "print(out.data)"
   ]
  },
  {
   "cell_type": "code",
   "execution_count": 41,
   "metadata": {},
   "outputs": [
    {
     "name": "stdout",
     "output_type": "stream",
     "text": [
      "Parameter containing:\n",
      "tensor([[-0.6768, -0.1839,  0.5565],\n",
      "        [-0.3529,  0.2438, -0.7361],\n",
      "        [-0.2023,  0.1164,  0.2436],\n",
      "        [-0.9524, -0.0134,  0.4519]], requires_grad=True)\n"
     ]
    }
   ],
   "source": [
    "# 查看模型参数\n",
    "# 最简单的方法 直接从对应的层中查看\n",
    "print(net.linear1.weight)"
   ]
  },
  {
   "cell_type": "code",
   "execution_count": 42,
   "metadata": {},
   "outputs": [
    {
     "name": "stdout",
     "output_type": "stream",
     "text": [
      "linear1.weight Parameter containing:\n",
      "tensor([[-0.6768, -0.1839,  0.5565],\n",
      "        [-0.3529,  0.2438, -0.7361],\n",
      "        [-0.2023,  0.1164,  0.2436],\n",
      "        [-0.9524, -0.0134,  0.4519]], requires_grad=True)\n",
      "linear1.bias Parameter containing:\n",
      "tensor([-0.5534,  0.4814,  0.4000,  0.5295], requires_grad=True)\n",
      "linear2.weight Parameter containing:\n",
      "tensor([[ 0.1523,  0.5036, -0.0146,  0.1573],\n",
      "        [-0.4321, -1.3440, -1.5873,  1.5521],\n",
      "        [ 0.6222, -1.1954, -0.8749, -0.2223],\n",
      "        [-1.1701, -0.9202, -0.3269, -0.5249]], requires_grad=True)\n",
      "linear2.bias Parameter containing:\n",
      "tensor([-0.4008, -0.0533, -0.3891, -0.0154], requires_grad=True)\n",
      "linear3.weight Parameter containing:\n",
      "tensor([[ 0.3539,  0.3964,  0.1328, -0.2537],\n",
      "        [-0.2579,  0.3290, -0.1424,  0.2604]], requires_grad=True)\n",
      "linear3.bias Parameter containing:\n",
      "tensor([0.2732, 0.2911], requires_grad=True)\n"
     ]
    }
   ],
   "source": [
    "# 第二种，调用model.parameters()获取不同层的参数\n",
    "for name, param in net.named_parameters():\n",
    "    print(name, param)"
   ]
  },
  {
   "cell_type": "code",
   "execution_count": 43,
   "metadata": {},
   "outputs": [
    {
     "name": "stdout",
     "output_type": "stream",
     "text": [
      "linear1.weight tensor([[-0.6768, -0.1839,  0.5565],\n",
      "        [-0.3529,  0.2438, -0.7361],\n",
      "        [-0.2023,  0.1164,  0.2436],\n",
      "        [-0.9524, -0.0134,  0.4519]])\n",
      "linear1.bias tensor([-0.5534,  0.4814,  0.4000,  0.5295])\n",
      "linear2.weight tensor([[ 0.1523,  0.5036, -0.0146,  0.1573],\n",
      "        [-0.4321, -1.3440, -1.5873,  1.5521],\n",
      "        [ 0.6222, -1.1954, -0.8749, -0.2223],\n",
      "        [-1.1701, -0.9202, -0.3269, -0.5249]])\n",
      "linear2.bias tensor([-0.4008, -0.0533, -0.3891, -0.0154])\n",
      "linear3.weight tensor([[ 0.3539,  0.3964,  0.1328, -0.2537],\n",
      "        [-0.2579,  0.3290, -0.1424,  0.2604]])\n",
      "linear3.bias tensor([0.2732, 0.2911])\n"
     ]
    }
   ],
   "source": [
    "# 第三种，去得到保存参数的dict\n",
    "d = net.state_dict()\n",
    "for k, v in d.items():\n",
    "    print(k, v)"
   ]
  },
  {
   "cell_type": "code",
   "execution_count": 48,
   "metadata": {},
   "outputs": [
    {
     "name": "stdout",
     "output_type": "stream",
     "text": [
      "----------------------------------------------------------------\n",
      "        Layer (type)               Output Shape         Param #\n",
      "================================================================\n",
      "            Linear-1                    [10, 4]              16\n",
      "            Linear-2                    [10, 4]              20\n",
      "            Linear-3                    [10, 2]              10\n",
      "================================================================\n",
      "Total params: 46\n",
      "Trainable params: 46\n",
      "Non-trainable params: 0\n",
      "----------------------------------------------------------------\n",
      "Input size (MB): 0.00\n",
      "Forward/backward pass size (MB): 0.00\n",
      "Params size (MB): 0.00\n",
      "Estimated Total Size (MB): 0.00\n",
      "----------------------------------------------------------------\n"
     ]
    }
   ],
   "source": [
    "# 查看模型结构与参数数量\n",
    "from torchsummary import summary\n",
    "\n",
    "summary(net, (3,), batch_size=10, device='cpu')\n"
   ]
  },
  {
   "cell_type": "code",
   "execution_count": 45,
   "metadata": {},
   "outputs": [
    {
     "data": {
      "text/plain": [
       "MyModel(\n",
       "  (linear1): Linear(in_features=3, out_features=4, bias=True)\n",
       "  (linear2): Linear(in_features=4, out_features=4, bias=True)\n",
       "  (linear3): Linear(in_features=4, out_features=2, bias=True)\n",
       ")"
      ]
     },
     "execution_count": 45,
     "metadata": {},
     "output_type": "execute_result"
    }
   ],
   "source": [
    "# device 的设置\n",
    "net.to('cuda')"
   ]
  },
  {
   "cell_type": "code",
   "execution_count": 46,
   "metadata": {},
   "outputs": [
    {
     "name": "stdout",
     "output_type": "stream",
     "text": [
      "cuda:0\n"
     ]
    }
   ],
   "source": [
    "input = torch.randn(1, 3, 224, 224, device='cuda')\n",
    "print(input.device)"
   ]
  },
  {
   "cell_type": "code",
   "execution_count": null,
   "metadata": {},
   "outputs": [],
   "source": []
  }
 ],
 "metadata": {
  "kernelspec": {
   "display_name": "pytorch_gpu",
   "language": "python",
   "name": "python3"
  },
  "language_info": {
   "codemirror_mode": {
    "name": "ipython",
    "version": 3
   },
   "file_extension": ".py",
   "mimetype": "text/x-python",
   "name": "python",
   "nbconvert_exporter": "python",
   "pygments_lexer": "ipython3",
   "version": "3.10.16"
  }
 },
 "nbformat": 4,
 "nbformat_minor": 2
}
