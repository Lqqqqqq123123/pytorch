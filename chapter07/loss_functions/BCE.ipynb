{
 "cells": [
  {
   "cell_type": "code",
   "execution_count": 7,
   "id": "52e2e9d4",
   "metadata": {},
   "outputs": [],
   "source": [
    "import torch\n",
    "import torch.nn as nn"
   ]
  },
  {
   "cell_type": "code",
   "execution_count": null,
   "id": "2f258f6c",
   "metadata": {},
   "outputs": [],
   "source": [
    "input = torch.tensor([[0.9, 0]])\n"
   ]
  },
  {
   "cell_type": "code",
   "execution_count": 44,
   "id": "bfc797ea",
   "metadata": {},
   "outputs": [],
   "source": [
    "# 目标值\n",
    "target = torch.tensor([[1, 1]], dtype=torch.float)\n",
    "loss = nn.BCELoss(reduction='none')"
   ]
  },
  {
   "cell_type": "code",
   "execution_count": 45,
   "id": "7b144a27",
   "metadata": {},
   "outputs": [
    {
     "name": "stdout",
     "output_type": "stream",
     "text": [
      "tensor([[  0.1054, 100.0000]])\n"
     ]
    }
   ],
   "source": [
    "print(loss(input, target))"
   ]
  },
  {
   "cell_type": "code",
   "execution_count": null,
   "id": "7965bb2b",
   "metadata": {},
   "outputs": [],
   "source": []
  }
 ],
 "metadata": {
  "kernelspec": {
   "display_name": "pytorch_gpu",
   "language": "python",
   "name": "python3"
  },
  "language_info": {
   "codemirror_mode": {
    "name": "ipython",
    "version": 3
   },
   "file_extension": ".py",
   "mimetype": "text/x-python",
   "name": "python",
   "nbconvert_exporter": "python",
   "pygments_lexer": "ipython3",
   "version": "3.10.16"
  }
 },
 "nbformat": 4,
 "nbformat_minor": 5
}
