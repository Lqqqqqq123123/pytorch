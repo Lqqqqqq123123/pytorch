{
 "cells": [
  {
   "cell_type": "code",
   "execution_count": 6,
   "id": "f2eed41a",
   "metadata": {},
   "outputs": [],
   "source": [
    "import torch\n",
    "import torch.nn as nn\n",
    "from torch import optim\n"
   ]
  },
  {
   "cell_type": "code",
   "execution_count": 2,
   "id": "67d862b0",
   "metadata": {},
   "outputs": [],
   "source": [
    "input = torch.randn(3, 5)\n",
    "target = torch.randn(3, 5)\n"
   ]
  },
  {
   "cell_type": "code",
   "execution_count": 3,
   "id": "eeb62f38",
   "metadata": {},
   "outputs": [
    {
     "name": "stdout",
     "output_type": "stream",
     "text": [
      "tensor(3.0637)\n"
     ]
    }
   ],
   "source": [
    "# MSE\n",
    "mse = nn.MSELoss()\n",
    "print(mse(input, target))"
   ]
  },
  {
   "cell_type": "code",
   "execution_count": 4,
   "id": "08c43aed",
   "metadata": {},
   "outputs": [
    {
     "name": "stdout",
     "output_type": "stream",
     "text": [
      "tensor(1.3754)\n"
     ]
    }
   ],
   "source": [
    "# MAE\n",
    "mae = nn.L1Loss()\n",
    "print(mae(input, target))"
   ]
  },
  {
   "cell_type": "code",
   "execution_count": 8,
   "id": "9d07bf01",
   "metadata": {},
   "outputs": [
    {
     "name": "stdout",
     "output_type": "stream",
     "text": [
      "tensor(0.9613)\n"
     ]
    }
   ],
   "source": [
    "# SmoothL1Loss\n",
    "loss = nn.SmoothL1Loss()\n",
    "print(loss(input, target))\n"
   ]
  },
  {
   "cell_type": "code",
   "execution_count": null,
   "id": "7a680f01",
   "metadata": {},
   "outputs": [],
   "source": []
  }
 ],
 "metadata": {
  "kernelspec": {
   "display_name": "pytorch_gpu",
   "language": "python",
   "name": "python3"
  },
  "language_info": {
   "codemirror_mode": {
    "name": "ipython",
    "version": 3
   },
   "file_extension": ".py",
   "mimetype": "text/x-python",
   "name": "python",
   "nbconvert_exporter": "python",
   "pygments_lexer": "ipython3",
   "version": "3.10.16"
  }
 },
 "nbformat": 4,
 "nbformat_minor": 5
}
