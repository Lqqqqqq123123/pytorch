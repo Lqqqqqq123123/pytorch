{
 "cells": [
  {
   "cell_type": "code",
   "execution_count": null,
   "id": "f9767d7d",
   "metadata": {},
   "outputs": [],
   "source": [
    "import torch\n",
    "import torch.nn as nn"
   ]
  },
  {
   "cell_type": "code",
   "execution_count": null,
   "id": "e5866b88",
   "metadata": {},
   "outputs": [],
   "source": [
    "input = torch.randn(6, 10) # 10分类任务\n",
    "target = torch.randint(0, 10, (6,))\n",
    "print(target)"
   ]
  },
  {
   "cell_type": "code",
   "execution_count": null,
   "id": "a7c9011f",
   "metadata": {},
   "outputs": [],
   "source": [
    "# 获得loss对象\n",
    "loss = nn.CrossEntropyLoss()\n",
    "\n",
    "# 计算损失\n",
    "loss_value = loss(input, target)  # target为类别索引\n",
    "print(loss_value)"
   ]
  },
  {
   "cell_type": "code",
   "execution_count": null,
   "id": "ed2fd560",
   "metadata": {},
   "outputs": [],
   "source": [
    "# target 为独热编码\n",
    "target = torch.randn(6, 10).softmax(dim=1)\n",
    "print(target)"
   ]
  },
  {
   "cell_type": "code",
   "execution_count": null,
   "id": "6b88f531",
   "metadata": {},
   "outputs": [],
   "source": [
    "loss = nn.CrossEntropyLoss()\n",
    "print(loss(input, target))"
   ]
  },
  {
   "cell_type": "code",
   "execution_count": null,
   "id": "6abf977f",
   "metadata": {},
   "outputs": [],
   "source": [
    "l1 = nn.L1Loss()\n",
    "l2 = nn.MSELoss()"
   ]
  }
 ],
 "metadata": {
  "kernelspec": {
   "display_name": "pytorch_gpu",
   "language": "python",
   "name": "python3"
  },
  "language_info": {
   "codemirror_mode": {
    "name": "ipython",
    "version": 3
   },
   "file_extension": ".py",
   "mimetype": "text/x-python",
   "name": "python",
   "nbconvert_exporter": "python",
   "pygments_lexer": "ipython3",
   "version": "3.10.16"
  }
 },
 "nbformat": 4,
 "nbformat_minor": 5
}
