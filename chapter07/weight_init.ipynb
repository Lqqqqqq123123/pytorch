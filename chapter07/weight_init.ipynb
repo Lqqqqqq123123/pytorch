{
 "cells": [
  {
   "cell_type": "code",
   "execution_count": 1,
   "metadata": {},
   "outputs": [],
   "source": [
    "# 权重参数初始化\n",
    "import torch\n",
    "import torch.nn as nn"
   ]
  },
  {
   "cell_type": "code",
   "execution_count": 8,
   "metadata": {},
   "outputs": [
    {
     "name": "stdout",
     "output_type": "stream",
     "text": [
      "Parameter containing:\n",
      "tensor([[0., 0., 0., 0., 0.],\n",
      "        [0., 0., 0., 0., 0.]], requires_grad=True)\n",
      "Parameter containing:\n",
      "tensor([[0., 0., 0., 0., 0.],\n",
      "        [0., 0., 0., 0., 0.]], requires_grad=True)\n"
     ]
    }
   ],
   "source": [
    "linear1 = nn.Linear(5, 2)\n",
    "# 常数初始化\n",
    "# 方法一，直接全部置为0 nn.init.zeros_(input)\n",
    "nn.init.zeros_(linear1.weight)\n",
    "print(linear1.weight)\n",
    "# 方法二，可以置为任意常数 nn.init.constant_(input, value)\n",
    "nn.init.constant_(linear1.weight,0)\n",
    "print(linear1.weight)"
   ]
  },
  {
   "cell_type": "code",
   "execution_count": 10,
   "metadata": {},
   "outputs": [
    {
     "name": "stdout",
     "output_type": "stream",
     "text": [
      "Parameter containing:\n",
      "tensor([[1., 0., 0., 0., 0.],\n",
      "        [0., 1., 0., 0., 0.]], requires_grad=True)\n"
     ]
    }
   ],
   "source": [
    "# 秩初始化\n",
    "nn.init.eye_(linear1.weight)\n",
    "print(linear1.weight)"
   ]
  },
  {
   "cell_type": "code",
   "execution_count": 13,
   "metadata": {},
   "outputs": [
    {
     "name": "stdout",
     "output_type": "stream",
     "text": [
      "Parameter containing:\n",
      "tensor([[ 1.0786, -0.4376,  1.2148,  0.8899,  0.5808],\n",
      "        [ 2.2090, -0.1361,  0.5941,  3.1393,  0.5008]], requires_grad=True)\n"
     ]
    }
   ],
   "source": [
    "# 正态分布初始化\n",
    "nn.init.normal_(linear1.weight, mean=0, std=0.01)\n",
    "print(linear1.weight)"
   ]
  },
  {
   "cell_type": "code",
   "execution_count": 14,
   "metadata": {},
   "outputs": [
    {
     "data": {
      "text/plain": [
       "Parameter containing:\n",
       "tensor([[ 0.4722,  0.8468, -0.4844, -0.2291,  0.5068],\n",
       "        [-0.0957,  0.7716, -0.6062, -0.0499, -0.9842]], requires_grad=True)"
      ]
     },
     "execution_count": 14,
     "metadata": {},
     "output_type": "execute_result"
    }
   ],
   "source": [
    "# 均匀分布初始化\n",
    "nn.init.uniform_(linear1.weight, -1, 1)"
   ]
  },
  {
   "cell_type": "code",
   "execution_count": 16,
   "metadata": {},
   "outputs": [
    {
     "name": "stdout",
     "output_type": "stream",
     "text": [
      "Parameter containing:\n",
      "tensor([[ 0.3590,  0.8326,  0.9852, -0.5581,  0.5604],\n",
      "        [ 0.1483, -0.0219, -0.1648, -0.4267,  0.4566]], requires_grad=True)\n",
      "Parameter containing:\n",
      "tensor([[ 0.2505, -0.9245, -0.7518,  0.3972,  0.5516],\n",
      "        [ 0.1622,  0.5596,  0.0430,  0.6311,  0.1900]], requires_grad=True)\n"
     ]
    }
   ],
   "source": [
    "# Xavier 初始化\n",
    "nn.init.xavier_normal_(linear1.weight)\n",
    "print(linear1.weight)\n",
    "nn.init.xavier_uniform_(linear1.weight)\n",
    "print(linear1.weight)"
   ]
  },
  {
   "cell_type": "code",
   "execution_count": 18,
   "metadata": {},
   "outputs": [
    {
     "name": "stdout",
     "output_type": "stream",
     "text": [
      "Parameter containing:\n",
      "tensor([[ 0.1537,  0.5880, -0.8442, -0.2915,  0.7395],\n",
      "        [ 1.0480,  0.2945,  0.1856,  0.0909,  0.1759]], requires_grad=True)\n",
      "Parameter containing:\n",
      "tensor([[ 0.7928,  0.9159,  0.1377,  0.8861,  0.1134],\n",
      "        [-0.4204, -0.9458,  0.6456,  0.1420,  0.4757]], requires_grad=True)\n"
     ]
    }
   ],
   "source": [
    "# KaiMing 初始化\n",
    "nn.init.kaiming_normal_(linear1.weight)\n",
    "print(linear1.weight)\n",
    "\n",
    "nn.init.kaiming_uniform_(linear1.weight)\n",
    "print(linear1.weight)"
   ]
  },
  {
   "cell_type": "code",
   "execution_count": null,
   "metadata": {},
   "outputs": [],
   "source": [
    "dorpout = nn.Dropout()"
   ]
  }
 ],
 "metadata": {
  "kernelspec": {
   "display_name": "pytorch_gpu",
   "language": "python",
   "name": "python3"
  },
  "language_info": {
   "codemirror_mode": {
    "name": "ipython",
    "version": 3
   },
   "file_extension": ".py",
   "mimetype": "text/x-python",
   "name": "python",
   "nbconvert_exporter": "python",
   "pygments_lexer": "ipython3",
   "version": "3.10.16"
  }
 },
 "nbformat": 4,
 "nbformat_minor": 2
}
