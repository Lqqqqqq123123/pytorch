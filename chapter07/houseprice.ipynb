{
 "cells": [
  {
   "cell_type": "code",
   "execution_count": null,
   "id": "2fc1194e",
   "metadata": {},
   "outputs": [],
   "source": [
    "import pandas as pd\n",
    "import numpy as np\n",
    "from sklearn.model_selection import train_test_split\n",
    "import matplotlib.pyplot as plt\n",
    "import torch, torch.nn as nn, torch.optim as optim\n",
    "from sklearn.preprocessing import StandardScaler, OneHotEncoder\n",
    "from sklearn.compose import ColumnTransformer\n",
    "from sklearn.pipeline import Pipeline  # 管道操作\n",
    "from sklearn.impute import SimpleImputer  # 缺失值处理\n",
    "from torch.utils.data import TensorDataset, DataLoader"
   ]
  },
  {
   "cell_type": "code",
   "execution_count": null,
   "id": "046b445a",
   "metadata": {},
   "outputs": [],
   "source": [
    "# 读取数据集\n",
    "df = pd.read_csv(r'../datasets/sgg-data/house_prices.csv')\n",
    "\n",
    "# 查看数据集\n",
    "print(df.info())  # 1460 * 81 \n"
   ]
  },
  {
   "cell_type": "code",
   "execution_count": null,
   "id": "7b22ed71",
   "metadata": {},
   "outputs": [],
   "source": [
    "# 数据预处理\n",
    "df.drop('Id', axis=1, inplace=True)"
   ]
  }
 ],
 "metadata": {
  "kernelspec": {
   "display_name": "pytorch_gpu",
   "language": "python",
   "name": "python3"
  },
  "language_info": {
   "codemirror_mode": {
    "name": "ipython",
    "version": 3
   },
   "file_extension": ".py",
   "mimetype": "text/x-python",
   "name": "python",
   "nbconvert_exporter": "python",
   "pygments_lexer": "ipython3",
   "version": "3.10.16"
  }
 },
 "nbformat": 4,
 "nbformat_minor": 5
}
