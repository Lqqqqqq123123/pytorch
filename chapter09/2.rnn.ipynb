{
 "cells": [
  {
   "cell_type": "code",
   "execution_count": 1,
   "metadata": {},
   "outputs": [],
   "source": [
    "import torch\n",
    "import torch.nn as nn\n"
   ]
  },
  {
   "cell_type": "code",
   "execution_count": 12,
   "metadata": {},
   "outputs": [],
   "source": [
    "# 定义 rnn 层\n",
    "rnn = nn.RNN(3, 8, 2)\n",
    "# 输入数据\n",
    "inputs = torch.randn(3, 1, 3) # (时间步数, 批量大小, 输入维度)\n",
    "h0 = torch.randn(2, 1, 8)\n"
   ]
  },
  {
   "cell_type": "code",
   "execution_count": 13,
   "metadata": {},
   "outputs": [
    {
     "name": "stdout",
     "output_type": "stream",
     "text": [
      "[[[-0.5651017   0.19776082  0.3738973   0.66400445 -0.755973\n",
      "   -0.96518075 -0.01900599  0.37877548]]\n",
      "\n",
      " [[ 0.3157136  -0.22471462 -0.03214232 -0.41078556 -0.3894489\n",
      "   -0.3779372  -0.17518103  0.20595062]]\n",
      "\n",
      " [[-0.13111918 -0.36665162 -0.09838238 -0.2573901  -0.1435365\n",
      "   -0.15359746 -0.22339323  0.09935866]]]\n",
      "[[[-0.23101118  0.3236886  -0.01909432 -0.28865    -0.635117\n",
      "   -0.3636179   0.23793441 -0.3535137 ]]\n",
      "\n",
      " [[-0.13111918 -0.36665162 -0.09838238 -0.2573901  -0.1435365\n",
      "   -0.15359746 -0.22339323  0.09935866]]]\n",
      "torch.Size([3, 1, 8]) torch.Size([2, 1, 8])\n"
     ]
    }
   ],
   "source": [
    "output, hn = rnn(inputs, h0)\n",
    "print(output.detach().numpy())\n",
    "print(hn.detach().numpy())\n",
    "print(output.shape, hn.shape)"
   ]
  },
  {
   "cell_type": "code",
   "execution_count": null,
   "metadata": {},
   "outputs": [],
   "source": []
  }
 ],
 "metadata": {
  "kernelspec": {
   "display_name": "pytorch_gpu",
   "language": "python",
   "name": "python3"
  },
  "language_info": {
   "codemirror_mode": {
    "name": "ipython",
    "version": 3
   },
   "file_extension": ".py",
   "mimetype": "text/x-python",
   "name": "python",
   "nbconvert_exporter": "python",
   "pygments_lexer": "ipython3",
   "version": "3.10.16"
  }
 },
 "nbformat": 4,
 "nbformat_minor": 2
}
