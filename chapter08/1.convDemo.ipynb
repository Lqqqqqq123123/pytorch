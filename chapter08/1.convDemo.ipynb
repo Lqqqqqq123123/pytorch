{
 "cells": [
  {
   "cell_type": "code",
   "execution_count": 4,
   "id": "b86a1b45",
   "metadata": {},
   "outputs": [],
   "source": [
    "import numpy as np"
   ]
  },
  {
   "cell_type": "code",
   "execution_count": 3,
   "id": "dc4d02a5",
   "metadata": {},
   "outputs": [
    {
     "name": "stdout",
     "output_type": "stream",
     "text": [
      "[2, 3, 5, 1, 4, 6, 5, 2, 5]\n",
      "[0.3333333333333333, 0.3333333333333333, 0.3333333333333333]\n"
     ]
    }
   ],
   "source": [
    "f = [2, 3, 5, 1, 4, 6, 5, 2, 5]\n",
    "g = [1/3, 1/3, 1/3]\n",
    "print(f)\n",
    "print(g)\n"
   ]
  },
  {
   "cell_type": "code",
   "execution_count": 10,
   "id": "902b0510",
   "metadata": {},
   "outputs": [
    {
     "name": "stdout",
     "output_type": "stream",
     "text": [
      "(11,)\n",
      "[0.66666667 1.66666667 3.33333333 3.         3.33333333 3.66666667\n",
      " 5.         4.33333333 4.         2.33333333 1.66666667]\n"
     ]
    }
   ],
   "source": [
    "# 离散序列的卷积运算\n",
    "cov = np.convolve(f, g)\n",
    "print(cov.shape)\n",
    "print(cov)"
   ]
  }
 ],
 "metadata": {
  "kernelspec": {
   "display_name": "pytorch_gpu",
   "language": "python",
   "name": "python3"
  },
  "language_info": {
   "codemirror_mode": {
    "name": "ipython",
    "version": 3
   },
   "file_extension": ".py",
   "mimetype": "text/x-python",
   "name": "python",
   "nbconvert_exporter": "python",
   "pygments_lexer": "ipython3",
   "version": "3.10.16"
  }
 },
 "nbformat": 4,
 "nbformat_minor": 5
}
