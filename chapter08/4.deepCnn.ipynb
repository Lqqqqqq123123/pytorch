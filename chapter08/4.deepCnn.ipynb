{
 "cells": [
  {
   "cell_type": "code",
   "execution_count": 4,
   "metadata": {},
   "outputs": [],
   "source": [
    "import torch\n",
    "import torchvision as tv\n",
    "import torchvision.models as models\n",
    "from torch import nn"
   ]
  },
  {
   "cell_type": "code",
   "execution_count": null,
   "metadata": {},
   "outputs": [],
   "source": [
    "alexnet = models.alexnet()\n",
    "print(alexnet)"
   ]
  },
  {
   "cell_type": "code",
   "execution_count": 10,
   "metadata": {},
   "outputs": [],
   "source": [
    "features = nn.Sequential(\n",
    "    nn.Conv2d(3, 64, 11, 4, 2),\n",
    "    nn.ReLU(),\n",
    "    nn.MaxPool2d(3, 2),\n",
    "    nn.Conv2d(64, 192, 5, 1, 2),\n",
    "    nn.ReLU(),\n",
    "    nn.MaxPool2d(3, 2),\n",
    "    nn.Conv2d(192, 384, 3, 1, 1),\n",
    "    nn.ReLU(),\n",
    "    nn.Conv2d(384, 256, 3, 1, 1),\n",
    "    nn.ReLU(),\n",
    "    nn.Conv2d(256, 256, 3, 1, 1),\n",
    "    nn.ReLU(),\n",
    "    nn.MaxPool2d(3, 2)\n",
    ")\n",
    "\n",
    "classifier = nn.Sequential(\n",
    "    nn.Dropout(0.5),\n",
    "    nn.Linear(256 * 6 * 6, 4096),\n",
    "    nn.ReLU(),\n",
    "    nn.Dropout(0.5),\n",
    "    nn.Linear(4096, 4096),\n",
    "    nn.ReLU(),\n",
    "    nn.Linear(4096, 10)\n",
    ")"
   ]
  },
  {
   "cell_type": "code",
   "execution_count": null,
   "metadata": {},
   "outputs": [],
   "source": [
    "class MyAlex(nn.Module):\n",
    "    \n",
    "    def __init__(self):\n",
    "        super().__init__()\n",
    "        self.features = features\n",
    "        self.classifer = classifier\n",
    "    \n",
    "    def forward(self, x):\n",
    "        x = self.features(x)\n",
    "        x = self.classifer(x)\n",
    "        return x\n",
    "    \n",
    "model = MyAlex()\n",
    "print(model)"
   ]
  },
  {
   "cell_type": "code",
   "execution_count": null,
   "metadata": {},
   "outputs": [],
   "source": [
    "vgg16 = models.vgg16()\n",
    "print(vgg16)"
   ]
  },
  {
   "cell_type": "code",
   "execution_count": null,
   "metadata": {},
   "outputs": [],
   "source": [
    "googlenet = models.googlenet(init_weights=True)\n",
    "print(googlenet)"
   ]
  },
  {
   "cell_type": "code",
   "execution_count": null,
   "metadata": {},
   "outputs": [],
   "source": [
    "resnet = models.resnet50()\n",
    "print(resnet)"
   ]
  }
 ],
 "metadata": {
  "kernelspec": {
   "display_name": "pytorch_gpu",
   "language": "python",
   "name": "python3"
  },
  "language_info": {
   "codemirror_mode": {
    "name": "ipython",
    "version": 3
   },
   "file_extension": ".py",
   "mimetype": "text/x-python",
   "name": "python",
   "nbconvert_exporter": "python",
   "pygments_lexer": "ipython3",
   "version": "3.10.16"
  }
 },
 "nbformat": 4,
 "nbformat_minor": 2
}
