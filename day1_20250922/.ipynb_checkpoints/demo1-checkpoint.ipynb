{
 "cells": [
  {
   "cell_type": "code",
   "execution_count": 1,
   "id": "20e104a5-93a6-469e-bb0b-b8b3665c52c9",
   "metadata": {
    "ExecuteTime": {
     "end_time": "2025-09-22T13:18:40.687498200Z",
     "start_time": "2025-09-22T13:18:39.040779100Z"
    }
   },
   "outputs": [],
   "source": [
    "import torch\n",
    "import torch.nn as nn"
   ]
  },
  {
   "cell_type": "code",
   "outputs": [
    {
     "name": "stdout",
     "output_type": "stream",
     "text": [
      "tensor([[ 0.2100,  0.0413, -1.0474]])\n"
     ]
    }
   ],
   "source": [
    "a = torch.randn(1, 3)\n",
    "print(a)"
   ],
   "metadata": {
    "collapsed": false,
    "ExecuteTime": {
     "end_time": "2025-09-22T13:20:07.771347100Z",
     "start_time": "2025-09-22T13:20:07.748849Z"
    }
   },
   "id": "4482a3abd9f8dbd5",
   "execution_count": 4
  },
  {
   "cell_type": "code",
   "outputs": [],
   "source": [],
   "metadata": {
    "collapsed": false
   },
   "id": "2c3b6ddf12175bc5"
  }
 ],
 "metadata": {
  "kernelspec": {
   "name": "pytorch_gpu",
   "language": "python",
   "display_name": "liutianba"
  },
  "language_info": {
   "codemirror_mode": {
    "name": "ipython",
    "version": 3
   },
   "file_extension": ".py",
   "mimetype": "text/x-python",
   "name": "python",
   "nbconvert_exporter": "python",
   "pygments_lexer": "ipython3",
   "version": "3.10.16"
  }
 },
 "nbformat": 4,
 "nbformat_minor": 5
}
