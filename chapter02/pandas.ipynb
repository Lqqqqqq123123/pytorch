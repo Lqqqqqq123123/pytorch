{
 "cells": [
  {
   "cell_type": "code",
   "execution_count": null,
   "metadata": {},
   "outputs": [],
   "source": [
    "import numpy as np\n",
    "import pandas as pd\n",
    "# series的创建\n",
    "s1 = pd.Series([1, 3, 5, np.nan, 6, 8])\n",
    "s2 = pd.Series([1, 3, 4], ['a', 'b', 'c'])\n",
    "d1 = {'a':1, 'b':2, 'c':3}\n",
    "s3 = pd.Series(d1)\n",
    "print(s1)\n",
    "print(s2)\n",
    "print(s3)"
   ]
  },
  {
   "cell_type": "code",
   "execution_count": null,
   "metadata": {},
   "outputs": [],
   "source": [
    "dates = pd.date_range('20250101', periods=6) # 时间索引\n",
    "#二维数组创建DataFrame\n",
    "df = pd.DataFrame(np.random.randn(6, 4), index=dates, columns=list('ABCD'))\n",
    "df"
   ]
  },
  {
   "cell_type": "code",
   "execution_count": null,
   "metadata": {},
   "outputs": [],
   "source": [
    "# 字典创建DataFrame\n",
    "df = pd.DataFrame({\n",
    "    'A': [1, 2, 3],\n",
    "    'B': [4, 5, 6],\n",
    "    'C': 1.0\n",
    "})"
   ]
  },
  {
   "cell_type": "code",
   "execution_count": null,
   "metadata": {},
   "outputs": [],
   "source": [
    "# pandas在创建时，也会有类似numpy的广播机制，就是如果某个维度上数据不够，会自动补齐\n",
    "df = pd.DataFrame({\n",
    "    'D':pd.Series(np.random.randn(4), index=list(range(4))),\n",
    "    'B':pd.Timestamp('20250102'),\n",
    "    'C':pd.Series(1, index=list(range(4)), dtype='float32'),\n",
    "})\n",
    "print(df)\n",
    "print(df.dtypes)\n",
    "print(df.index)\n",
    "print(df.columns)\n",
    "print(df.values)\n",
    "\n",
    "# 选择数据时，默认按列选择\n",
    "print(df['D'])\n",
    "\n",
    "# 选择多列\n",
    "print(df[['D', 'B']])"
   ]
  },
  {
   "cell_type": "code",
   "execution_count": null,
   "metadata": {},
   "outputs": [],
   "source": [
    "# pandas的axis与numpy的axis含义不同，pandas的axis=0表示按行操作，axis=1表示按列操作\n",
    "print(df.loc[0]) # 按标签选择\n",
    "print(df.iloc[[0, 3]])"
   ]
  },
  {
   "cell_type": "code",
   "execution_count": null,
   "metadata": {},
   "outputs": [],
   "source": [
    "# 排序默认不会修改原数据，inplace=True表示在原数据上修改\n",
    "df.sort_values(by='D', ascending=False, inplace=True) # 按某列排序\n",
    "print(df)\n",
    "df.sort_index(axis=1, inplace=True) # 按索引排序\n",
    "print(df)"
   ]
  },
  {
   "cell_type": "code",
   "execution_count": null,
   "metadata": {},
   "outputs": [],
   "source": [
    "# 统计\n",
    "df.describe() # 统计汇总"
   ]
  },
  {
   "cell_type": "code",
   "execution_count": 3,
   "metadata": {},
   "outputs": [
    {
     "name": "stdout",
     "output_type": "stream",
     "text": [
      "[1, 2, 3, 4]\n",
      "[1, 3]\n",
      "[9, 8, 7, 6, 5, 4, 3, 2, 1, 0]\n"
     ]
    }
   ],
   "source": [
    "#切片演示\n",
    "arr = [i for i in range(10)]\n",
    "print(arr[1:5])\n",
    "print(arr[1:5:2])\n",
    "print(arr[::-1])  # 反转"
   ]
  }
 ],
 "metadata": {
  "kernelspec": {
   "display_name": "pytorch_gpu",
   "language": "python",
   "name": "python3"
  },
  "language_info": {
   "codemirror_mode": {
    "name": "ipython",
    "version": 3
   },
   "file_extension": ".py",
   "mimetype": "text/x-python",
   "name": "python",
   "nbconvert_exporter": "python",
   "pygments_lexer": "ipython3",
   "version": "3.10.16"
  }
 },
 "nbformat": 4,
 "nbformat_minor": 2
}
